{
 "cells": [
  {
   "cell_type": "markdown",
   "id": "383bffa2-7e0d-4171-acd2-4890cbd7cbaf",
   "metadata": {},
   "source": [
    "# Processor System Design Program #"
   ]
  },
  {
   "cell_type": "code",
   "execution_count": null,
   "id": "9499e0c1-59e1-4949-aa60-9717d8f32177",
   "metadata": {},
   "outputs": [],
   "source": [
    "from pynq import Overlay, MMIO\n",
    "import xrfdc\n",
    "import xrfclk\n",
    "import numpy as np\n",
    "import time\n",
    "\n",
    "base = Overlay('/home/xilinx/pynq/overlays/PSOverlay/PSOverlay.bit')"
   ]
  },
  {
   "cell_type": "markdown",
   "id": "55391600-8848-415e-b7bc-24c58bd1d878",
   "metadata": {},
   "source": [
    "Initialize clocks"
   ]
  },
  {
   "cell_type": "code",
   "execution_count": null,
   "id": "f1b925fd-7326-4aea-a19f-80700ec3f79b",
   "metadata": {},
   "outputs": [],
   "source": [
    "xrfclk.set_ref_clks(lmk_freq = 500.00, lmx_freq = 500.00) # Initialize clocks\n",
    "while base.usp_rf_data_converter_0.IPStatus['DACTileStatus'][0]['TileState']!=15:\n",
    "    xrfclk.set_ref_clks(lmk_freq = 500.00, lmx_freq = 500.00)\n",
    "    time.sleep(3)"
   ]
  },
  {
   "cell_type": "markdown",
   "id": "15e4c62d-ad65-4681-824a-48c73b20859f",
   "metadata": {},
   "source": [
    "Parameters and functions definition:"
   ]
  },
  {
   "cell_type": "code",
   "execution_count": null,
   "id": "e5504c35-367d-47c3-babe-1f063986b49e",
   "metadata": {},
   "outputs": [],
   "source": [
    "# Parameters\n",
    "Theta = [10,20,30,40]\n",
    "Phi = [10,20,30,40]\n",
    "num_angles = len(Theta)\n",
    "Radius = 1\n",
    "lambda_val = 1.0\n",
    "PosX = [0, 0.5]\n",
    "PosY = [0, 0]\n",
    "num_pos =len(PosX)\n",
    "Steering = [0,0]\n",
    "\n",
    "# Antenna Steering Array function\n",
    "def get_steering(ThetaO, PhiO, n):\n",
    "    for i in range(n):\n",
    "        if np.sqrt(PosX[i]**2 + PosY[i]**2) <= Radius:\n",
    "            Steering[i] = -2*np.pi*np.sin(np.radians(ThetaO))*(PosX[i]*np.cos(np.radians(PhiO))+PosY[i]*np.sin(np.radians(PhiO)))\n",
    "    return 0"
   ]
  },
  {
   "cell_type": "code",
   "execution_count": null,
   "id": "bf495899-0a67-4448-b31d-20faf0568623",
   "metadata": {},
   "outputs": [],
   "source": [
    "# Map PL GPIO\n",
    "new_params_button = base.hier_GPIO.axi_gpio_2[0]\n",
    "dacA_enable = base.dac_generator.axi_gpio_4[0]\n",
    "dacB_enable = base.dac_generator.axi_gpio_3[0]\n",
    "RAMB_limit = base.dac_generator.axi_gpio_0\n",
    "start = base.hier_GPIO.axi_gpio_3[0] #PMOD0_0\n",
    "end = base.hier_GPIO.axi_gpio_3[1] #PMOD0_1\n",
    "\n",
    "# DAC player memory\n",
    "DAC_B_BASEADDR = base.mem_dict[\"dac_generator/axi_bram_ctrl_0\"][\"phys_addr\"]\n",
    "DAC_B_ADDRRANGE = base.mem_dict[\"dac_generator/axi_bram_ctrl_0\"][\"addr_range\"]\n",
    "DAC_B_MMIO = MMIO(DAC_B_BASEADDR,DAC_B_ADDRRANGE)\n",
    "DAC_A_BASEADDR = base.mem_dict[\"dac_generator/axi_bram_ctrl_1\"][\"phys_addr\"]\n",
    "DAC_A_ADDRRANGE = base.mem_dict[\"dac_generator/axi_bram_ctrl_1\"][\"addr_range\"]\n",
    "DAC_A_MMIO = MMIO(DAC_A_BASEADDR,DAC_A_ADDRRANGE)\n",
    "\n",
    "dacA_player = DAC_A_MMIO.array[0:DAC_A_MMIO.length].view(\"int16\") \n",
    "dacB_player = DAC_B_MMIO.array[0:DAC_B_MMIO.length].view(\"int16\") "
   ]
  },
  {
   "cell_type": "code",
   "execution_count": null,
   "id": "e0300e06-ef6b-4ba9-8d9d-716fba00ae1d",
   "metadata": {},
   "outputs": [],
   "source": [
    "DAC_SR = 6.5E9  # Sample rate of DACs 6.5 GHz\n",
    "Fc = 4.875E9 # Set center frequency of waveform to 5 GHz\n",
    "DAC_Amplitude = 16383.0  # 14bit DAC +16383/-16384\n",
    "X_axis = (1/DAC_SR) * np.arange(0,dacB_player.shape[0])\n",
    "ramlimitvalue=0xFFF\n",
    "\n",
    "# Set address limit for RAM B\n",
    "RAMB_limit.write(0,ramlimitvalue)\n",
    "\n",
    "DAC_sinewave = DAC_Amplitude * np.cos(2*np.pi*Fc*X_axis)\n",
    "dacA_player[:] = np.int16(DAC_sinewave)\n",
    "dacB_player[:] = np.int16(DAC_sinewave)\n",
    "dacB_enable.off()\n",
    "dacA_enable.off()\n",
    "dacB_enable.on()\n",
    "dacA_enable.on()"
   ]
  },
  {
   "cell_type": "markdown",
   "id": "434b9ff7-14e0-45fc-a941-013dcf368bd3",
   "metadata": {},
   "source": [
    "Main Loop"
   ]
  },
  {
   "cell_type": "code",
   "execution_count": null,
   "id": "3ce37363-d987-4a9f-a3f2-2d9d54fcc9a8",
   "metadata": {
    "tags": []
   },
   "outputs": [],
   "source": [
    "new_params_button_prev = 0\n",
    "angles_count = 0\n",
    "result = 0\n",
    "\n",
    "while(1):\n",
    "    if new_params_button.read()==1 and new_params_button_prev == 0:\n",
    "        new_params_button_prev = 1\n",
    "        start.write(1)\n",
    "        if angles_count < num_angles-1:\n",
    "            angles_count+=1\n",
    "        else: angles_count = 0\n",
    "        result = get_steering(Theta[angles_count], Phi[angles_count], num_pos)\n",
    "        start.write(result)\n",
    "        print(Steering)\n",
    "    elif new_params_button.read() == 0: \n",
    "        new_params_button_prev = 0\n",
    "        end.write(0)\n",
    "        result = 0\n",
    "     "
   ]
  }
 ],
 "metadata": {
  "kernelspec": {
   "display_name": "Python 3 (ipykernel)",
   "language": "python",
   "name": "python3"
  },
  "language_info": {
   "codemirror_mode": {
    "name": "ipython",
    "version": 3
   },
   "file_extension": ".py",
   "mimetype": "text/x-python",
   "name": "python",
   "nbconvert_exporter": "python",
   "pygments_lexer": "ipython3",
   "version": "3.10.4"
  }
 },
 "nbformat": 4,
 "nbformat_minor": 5
}
