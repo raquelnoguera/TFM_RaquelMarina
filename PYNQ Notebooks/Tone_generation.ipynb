{
 "cells": [
  {
   "cell_type": "markdown",
   "id": "88752276-f6cd-475e-9efc-4a2cdd1e11d3",
   "metadata": {},
   "source": [
    "# Tone generation"
   ]
  },
  {
   "cell_type": "code",
   "execution_count": 2,
   "id": "7f7d0dad-5481-4f1f-b860-12402ca9c882",
   "metadata": {},
   "outputs": [],
   "source": [
    "from pynq.overlays.base import BaseOverlay\n",
    "\n",
    "base = BaseOverlay('base.bit')\n",
    "base.init_rf_clks()\n",
    "\n",
    "def set_transmitter_channel(channel, enable, gain, frequency):\n",
    "    channel.control.enable = enable\n",
    "    channel.control.gain = gain\n",
    "    channel.dac_block.MixerSettings['Freq'] = frequency"
   ]
  },
  {
   "cell_type": "code",
   "execution_count": 14,
   "id": "80f88368-42fd-40e3-b6b7-eade387b068d",
   "metadata": {},
   "outputs": [],
   "source": [
    "set_transmitter_channel(base.radio.transmitter.channel[0], True, 0, 5000) # 5GHz signal in channel B"
   ]
  },
  {
   "cell_type": "code",
   "execution_count": 12,
   "id": "329d21a6-4500-4a3c-8ee4-12da2f3395f8",
   "metadata": {},
   "outputs": [],
   "source": [
    "base.radio.transmitter.channel[0].dac_block.NyquistZone=2"
   ]
  },
  {
   "cell_type": "code",
   "execution_count": null,
   "id": "043d47cd-944e-423f-ba87-06d8783c1fc4",
   "metadata": {},
   "outputs": [],
   "source": [
    "base.radio.transmitter.channel[0].dac_block.InvSincFIR=2"
   ]
  }
 ],
 "metadata": {
  "kernelspec": {
   "display_name": "Python 3 (ipykernel)",
   "language": "python",
   "name": "python3"
  },
  "language_info": {
   "codemirror_mode": {
    "name": "ipython",
    "version": 3
   },
   "file_extension": ".py",
   "mimetype": "text/x-python",
   "name": "python",
   "nbconvert_exporter": "python",
   "pygments_lexer": "ipython3",
   "version": "3.10.4"
  }
 },
 "nbformat": 4,
 "nbformat_minor": 5
}
